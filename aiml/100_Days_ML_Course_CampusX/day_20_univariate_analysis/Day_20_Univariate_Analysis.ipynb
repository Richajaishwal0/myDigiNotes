{
 "cells": [
  {
   "cell_type": "code",
   "execution_count": 1,
   "id": "77beafcc-fa39-400a-8694-91904f886d6f",
   "metadata": {},
   "outputs": [],
   "source": [
    "import pandas as pd\n",
    "import seaborn as sns"
   ]
  },
  {
   "cell_type": "markdown",
   "id": "1bae4a4d-90e6-46a3-b738-312007c3fa3c",
   "metadata": {},
   "source": [
    "### Univariate Analysis - Revision Note\r\n",
    "\r\n",
    "**Definition**:  \r\n",
    "Univariate analysis examines the distribution of a **single variable** (one feature at a time). It's primarily used to understand the pattern, spread, and behavior of individual variables in the dataset.\r\n",
    "\r\n",
    "#### Key Objectives:\r\n",
    "1. **Summarize** the variable's distribution.\r\n",
    "2. **Detect outliers** or anomalies.\r\n",
    "3. **Assess central tendency** (mean, median, mode).\r\n",
    "4. **Understand variability** (range, variance, standard deviation).\r\n",
    "\r\n",
    "#### Common Techniques:\r\n",
    "1. **Descriptive Statistics**:\r\n",
    "   - **Mean**: Average of the values.\r\n",
    "   - **Median**: Middle value when sorted.\r\n",
    "   - **Mode**: Most frequent value.\r\n",
    "   - **Standard Deviation**: Measures spread from the mean.\r\n",
    "   - **Range**: Difference between max and min values.\r\n",
    "\r\n",
    "2. **Visualizations**:\r\n",
    "   - **Histogram**: Shows frequency distribution of data.\r\n",
    "   - **Boxplot**: Displays the 5-number summary (min, Q1, median, Q3, max) and identifies outliers.\r\n",
    "   - **KDE Plot**: Shows the smoothed probability density function.\r\n",
    "\r\n",
    "#### Key Use Cases:\r\n",
    "- **Numerical Data**: Histograms, KDE plots, descriptive statistics (mean, median, etc.).\r\n",
    "- **Categorical Data**: Bar plots, frequency counts, pie charts.\r\n",
    "\r\n",
    "#### Example:\r\n",
    "```python\r\n",
    "# Numerical data analysis\r\n",
    "sns.histplot(df['Age'], kde=True)  # Histogram + KDE for numerical variable\r\n",
    "df['Age'].describe()  # Summary statistics\r\n",
    "\r\n",
    "# Categorical data analysis\r\n",
    "sns.countplot(x='Gender', data=df)  # Count plot for categorical variable\r\n",
    "df['Gender'].value_counts()  # Frequency count\r\n"
   ]
  },
  {
   "cell_type": "code",
   "execution_count": 3,
   "id": "aa0bf3bf-22f9-43e6-bae3-66262ed20a43",
   "metadata": {},
   "outputs": [],
   "source": [
    "df = pd.read_csv('train.csv')"
   ]
  },
  {
   "cell_type": "code",
   "execution_count": 7,
   "id": "d0d92a48-827d-4227-a995-9f21065e84aa",
   "metadata": {},
   "outputs": [
    {
     "data": {
      "text/html": [
       "<div>\n",
       "<style scoped>\n",
       "    .dataframe tbody tr th:only-of-type {\n",
       "        vertical-align: middle;\n",
       "    }\n",
       "\n",
       "    .dataframe tbody tr th {\n",
       "        vertical-align: top;\n",
       "    }\n",
       "\n",
       "    .dataframe thead th {\n",
       "        text-align: right;\n",
       "    }\n",
       "</style>\n",
       "<table border=\"1\" class=\"dataframe\">\n",
       "  <thead>\n",
       "    <tr style=\"text-align: right;\">\n",
       "      <th></th>\n",
       "      <th>PassengerId</th>\n",
       "      <th>Survived</th>\n",
       "      <th>Pclass</th>\n",
       "      <th>Name</th>\n",
       "      <th>Sex</th>\n",
       "      <th>Age</th>\n",
       "      <th>SibSp</th>\n",
       "      <th>Parch</th>\n",
       "      <th>Ticket</th>\n",
       "      <th>Fare</th>\n",
       "      <th>Cabin</th>\n",
       "      <th>Embarked</th>\n",
       "    </tr>\n",
       "  </thead>\n",
       "  <tbody>\n",
       "    <tr>\n",
       "      <th>632</th>\n",
       "      <td>633</td>\n",
       "      <td>1</td>\n",
       "      <td>1</td>\n",
       "      <td>Stahelin-Maeglin, Dr. Max</td>\n",
       "      <td>male</td>\n",
       "      <td>32.0</td>\n",
       "      <td>0</td>\n",
       "      <td>0</td>\n",
       "      <td>13214</td>\n",
       "      <td>30.500</td>\n",
       "      <td>B50</td>\n",
       "      <td>C</td>\n",
       "    </tr>\n",
       "    <tr>\n",
       "      <th>773</th>\n",
       "      <td>774</td>\n",
       "      <td>0</td>\n",
       "      <td>3</td>\n",
       "      <td>Elias, Mr. Dibo</td>\n",
       "      <td>male</td>\n",
       "      <td>NaN</td>\n",
       "      <td>0</td>\n",
       "      <td>0</td>\n",
       "      <td>2674</td>\n",
       "      <td>7.225</td>\n",
       "      <td>NaN</td>\n",
       "      <td>C</td>\n",
       "    </tr>\n",
       "    <tr>\n",
       "      <th>284</th>\n",
       "      <td>285</td>\n",
       "      <td>0</td>\n",
       "      <td>1</td>\n",
       "      <td>Smith, Mr. Richard William</td>\n",
       "      <td>male</td>\n",
       "      <td>NaN</td>\n",
       "      <td>0</td>\n",
       "      <td>0</td>\n",
       "      <td>113056</td>\n",
       "      <td>26.000</td>\n",
       "      <td>A19</td>\n",
       "      <td>S</td>\n",
       "    </tr>\n",
       "    <tr>\n",
       "      <th>723</th>\n",
       "      <td>724</td>\n",
       "      <td>0</td>\n",
       "      <td>2</td>\n",
       "      <td>Hodges, Mr. Henry Price</td>\n",
       "      <td>male</td>\n",
       "      <td>50.0</td>\n",
       "      <td>0</td>\n",
       "      <td>0</td>\n",
       "      <td>250643</td>\n",
       "      <td>13.000</td>\n",
       "      <td>NaN</td>\n",
       "      <td>S</td>\n",
       "    </tr>\n",
       "    <tr>\n",
       "      <th>257</th>\n",
       "      <td>258</td>\n",
       "      <td>1</td>\n",
       "      <td>1</td>\n",
       "      <td>Cherry, Miss. Gladys</td>\n",
       "      <td>female</td>\n",
       "      <td>30.0</td>\n",
       "      <td>0</td>\n",
       "      <td>0</td>\n",
       "      <td>110152</td>\n",
       "      <td>86.500</td>\n",
       "      <td>B77</td>\n",
       "      <td>S</td>\n",
       "    </tr>\n",
       "  </tbody>\n",
       "</table>\n",
       "</div>"
      ],
      "text/plain": [
       "     PassengerId  Survived  Pclass                        Name     Sex   Age  \\\n",
       "632          633         1       1   Stahelin-Maeglin, Dr. Max    male  32.0   \n",
       "773          774         0       3             Elias, Mr. Dibo    male   NaN   \n",
       "284          285         0       1  Smith, Mr. Richard William    male   NaN   \n",
       "723          724         0       2     Hodges, Mr. Henry Price    male  50.0   \n",
       "257          258         1       1        Cherry, Miss. Gladys  female  30.0   \n",
       "\n",
       "     SibSp  Parch  Ticket    Fare Cabin Embarked  \n",
       "632      0      0   13214  30.500   B50        C  \n",
       "773      0      0    2674   7.225   NaN        C  \n",
       "284      0      0  113056  26.000   A19        S  \n",
       "723      0      0  250643  13.000   NaN        S  \n",
       "257      0      0  110152  86.500   B77        S  "
      ]
     },
     "execution_count": 7,
     "metadata": {},
     "output_type": "execute_result"
    }
   ],
   "source": [
    "df.sample(5)"
   ]
  },
  {
   "cell_type": "markdown",
   "id": "836ce2a1-50b3-4bbd-8bb1-d851b5a4e23c",
   "metadata": {},
   "source": [
    "# Univariate Analysis of above dataset\n",
    "\n",
    "- PassengerId -> Not so useful\n",
    "- Survivied -> Categorical\n",
    "- Pclass -> Categorical\n",
    "- Name -> Categorical with many many categories (not so useful)\n",
    "- Sex -> Categorical\n",
    "- Age -> Numerical\n",
    "- SibSp( Sibling or Spouse ) -> Categorical\n",
    "- Parch (Parent or child) -> Categorical\n",
    "- Ticket -> Not so useful\n",
    "- Fare -> Numerical\n",
    "- Cabin -> Has many null values\n",
    "- Embarked ( from which station passenger had boarded ) -> Categorical\n"
   ]
  },
  {
   "cell_type": "code",
   "execution_count": 11,
   "id": "61e187cf-0485-4d39-85d9-8730cdcf7a4a",
   "metadata": {},
   "outputs": [
    {
     "data": {
      "text/plain": [
       "Index(['PassengerId', 'Survived', 'Pclass', 'Name', 'Sex', 'Age', 'SibSp',\n",
       "       'Parch', 'Ticket', 'Fare', 'Cabin', 'Embarked'],\n",
       "      dtype='object')"
      ]
     },
     "execution_count": 11,
     "metadata": {},
     "output_type": "execute_result"
    }
   ],
   "source": [
    "df.columns"
   ]
  },
  {
   "cell_type": "markdown",
   "id": "2740b471-a15a-461c-b63d-19ed660d4dfe",
   "metadata": {},
   "source": [
    "# 1. Categorical Data"
   ]
  },
  {
   "cell_type": "markdown",
   "id": "8be6ecef-ba20-41f6-813d-900b440aef67",
   "metadata": {},
   "source": [
    "## a. Countplot"
   ]
  },
  {
   "cell_type": "code",
   "execution_count": 18,
   "id": "f733b1dc-16c3-4bd5-8309-a33aa11e935b",
   "metadata": {},
   "outputs": [
    {
     "data": {
      "text/plain": [
       "<Axes: xlabel='count', ylabel='Embarked'>"
      ]
     },
     "execution_count": 18,
     "metadata": {},
     "output_type": "execute_result"
    },
    {
     "data": {
      "image/png": "[encoded data removed]",
      "text/plain": [
       "<Figure size 640x480 with 1 Axes>"
      ]
     },
     "metadata": {},
     "output_type": "display_data"
    }
   ],
   "source": [
    "sns.countplot(df['Embarked'])"
   ]
  },
  {
   "cell_type": "code",
   "execution_count": 23,
   "id": "6a7c16b5-d8ef-487b-a1c9-a53e04b3a69c",
   "metadata": {},
   "outputs": [
    {
     "data": {
      "text/plain": [
       "Embarked\n",
       "S    644\n",
       "C    168\n",
       "Q     77\n",
       "Name: count, dtype: int64"
      ]
     },
     "execution_count": 23,
     "metadata": {},
     "output_type": "execute_result"
    }
   ],
   "source": [
    "# Getting the value counts for each item in the Series\n",
    "df['Embarked'].value_counts()"
   ]
  },
  {
   "cell_type": "markdown",
   "id": "8ce41a52-801c-47d7-bbad-ce896354dec8",
   "metadata": {},
   "source": [
    "df['Embarked'].value_counts().plot(kind='bar')"
   ]
  },
  {
   "cell_type": "markdown",
   "id": "894ff8f0-f3a6-4c01-9f66-57cc9d670288",
   "metadata": {},
   "source": [
    "## b. PieChart"
   ]
  },
  {
   "cell_type": "code",
   "execution_count": 32,
   "id": "8954eedf-3473-4a85-9a52-f9a7c5c82c39",
   "metadata": {},
   "outputs": [
    {
     "data": {
      "text/plain": [
       "<Axes: ylabel='count'>"
      ]
     },
     "execution_count": 32,
     "metadata": {},
     "output_type": "execute_result"
    },
    {
     "data": {
      "image/png": "[encoded data removed]",
      "text/plain": [
       "<Figure size 640x480 with 1 Axes>"
      ]
     },
     "metadata": {},
     "output_type": "display_data"
    }
   ],
   "source": [
    "df['Sex'].value_counts().plot(kind='pie', autopct='%.2f')"
   ]
  },
  {
   "cell_type": "code",
   "execution_count": 34,
   "id": "967f7028-ad99-4f76-800d-4eccc845012c",
   "metadata": {},
   "outputs": [
    {
     "data": {
      "text/plain": [
       "Sex\n",
       "male      577\n",
       "female    314\n",
       "Name: count, dtype: int64"
      ]
     },
     "execution_count": 34,
     "metadata": {},
     "output_type": "execute_result"
    }
   ],
   "source": [
    "df['Sex'].value_counts()"
   ]
  },
  {
   "cell_type": "markdown",
   "id": "86b44fb7-c527-4c26-ac20-90a57d3b783d",
   "metadata": {},
   "source": [
    "# 2. Numerical Data"
   ]
  },
  {
   "cell_type": "code",
   "execution_count": 65,
   "id": "67f82818-3954-4bc3-ad49-f91a31871d28",
   "metadata": {},
   "outputs": [
    {
     "data": {
      "text/plain": [
       "Text(0, 0.5, 'frequency')"
      ]
     },
     "execution_count": 65,
     "metadata": {},
     "output_type": "execute_result"
    },
    {
     "data": {
      "image/png": "[encoded data removed]",
      "text/plain": [
       "<Figure size 640x480 with 1 Axes>"
      ]
     },
     "metadata": {},
     "output_type": "display_data"
    }
   ],
   "source": [
    "import matplotlib.pyplot as plt\n",
    "plt.hist(df['Age'], bins=5)\n",
    "plt.xlabel('Age')\n",
    "plt.ylabel('frequency')"
   ]
  },
  {
   "cell_type": "markdown",
   "id": "5a7987f9-5774-4b71-9c59-fc63fcacc4d6",
   "metadata": {},
   "source": [
    "# Distplot"
   ]
  },
  {
   "cell_type": "code",
   "execution_count": 58,
   "id": "626667a3-32f7-418a-8845-d9ebe6272a2e",
   "metadata": {},
   "outputs": [
    {
     "data": {
      "text/plain": [
       "<seaborn.axisgrid.FacetGrid at 0x212c542a360>"
      ]
     },
     "execution_count": 58,
     "metadata": {},
     "output_type": "execute_result"
    },
    {
     "data": {
      "image/png": "[encoded data removed]",
      "text/plain": [
       "<Figure size 500x500 with 1 Axes>"
      ]
     },
     "metadata": {},
     "output_type": "display_data"
    }
   ],
   "source": [
    "# KDE = kernel density estimate\n",
    "sns.displot(df['Age'], kde=True)\n"
   ]
  },
  {
   "cell_type": "markdown",
   "id": "54af8135-e58e-4055-8086-139610763b99",
   "metadata": {},
   "source": [
    "### Kernel Density Estimate (KDE) - Revision Note\r\n",
    "\r\n",
    "- **KDE**: Smoothed estimate of the probability density function (PDF) for continuous data.\r\n",
    "- **Y-axis**: Represents the **density** (normalized so area under the curve = 1). It shows the relative likelihood of values.\r\n",
    "- **X-axis**: Represents the **data values** (e.g., Age). The curve’s height at any point shows the data density around that value.\r\n",
    "\r\n",
    "#### Key Interpretation Points:\r\n",
    "1. **Peaks (Modes)**: Represent the most common values in the dataset.\r\n",
    "   - High peaks = many data points around that value.\r\n",
    "2. **Spread**: Width of the curve indicates how dispersed the data is.\r\n",
    "   - Wider curve = more spread out; Narrower curve = more concentrated.\r\n",
    "3. **Multiple Peaks**: Suggest multiple common values or distinct groups.\r\n",
    "4. **Tails**: Long tails indicate outliers or extreme values in the dataset.\r\n",
    "\r\n",
    "#### Bandwidth:\r\n",
    "- **Controls the smoothness** of the KDE. \r\n",
    "   - Low bandwidth: sharp, detailed curve (may overfit noise).\r\n",
    "   - High bandwidth: smooth, generalized curve (may miss details).\r\n",
    "   \r\n",
    "- Adjust with `bw_adjust` in Seaborn:  \r\n",
    "   ```python\r\n",
    "   sns.kdeplot(df['Age'], bw_adjust=0.5)  # Lower bandwidth (sharper)\r\n",
    "   sns.kdeplot(df['Age'], bw_adjust=1.5)  # Higher bandwidth (smoother)\r\n"
   ]
  },
  {
   "cell_type": "markdown",
   "id": "fe8ce096-295d-4d8d-b95b-7384feca62f9",
   "metadata": {},
   "source": [
    "## c. Boxplot"
   ]
  },
  {
   "cell_type": "code",
   "execution_count": 68,
   "id": "f8d9bb7c-b143-4dfb-870d-e5e02909f508",
   "metadata": {},
   "outputs": [
    {
     "data": {
      "text/plain": [
       "<Axes: ylabel='Age'>"
      ]
     },
     "execution_count": 68,
     "metadata": {},
     "output_type": "execute_result"
    },
    {
     "data": {
      "image/png": "[encoded data removed]",
      "text/plain": [
       "<Figure size 640x480 with 1 Axes>"
      ]
     },
     "metadata": {},
     "output_type": "display_data"
    }
   ],
   "source": [
    "sns.boxplot(df['Age'])"
   ]
  },
  {
   "cell_type": "markdown",
   "id": "7edd4519-d676-49a2-b339-b660aa4aed74",
   "metadata": {},
   "source": [
    "## Interpreting boxplot\n",
    "![image](https://github.com/user-attachments/assets/2e28330e-3ae3-4741-a84a-0bb58b636f20)\n"
   ]
  },
  {
   "cell_type": "code",
   "execution_count": 71,
   "id": "4e782a5c-9303-4be6-9721-e5948830584d",
   "metadata": {},
   "outputs": [
    {
     "data": {
      "text/plain": [
       "0.42"
      ]
     },
     "execution_count": 71,
     "metadata": {},
     "output_type": "execute_result"
    }
   ],
   "source": [
    "df['Age'].min()"
   ]
  },
  {
   "cell_type": "code",
   "execution_count": 73,
   "id": "6e331bf9-af36-4b99-8ebc-ac609d060110",
   "metadata": {},
   "outputs": [
    {
     "data": {
      "text/plain": [
       "80.0"
      ]
     },
     "execution_count": 73,
     "metadata": {},
     "output_type": "execute_result"
    }
   ],
   "source": [
    "df['Age'].max()"
   ]
  },
  {
   "cell_type": "code",
   "execution_count": 75,
   "id": "171c453f-4783-4c6c-8cc0-a1143498ccac",
   "metadata": {},
   "outputs": [
    {
     "data": {
      "text/plain": [
       "<bound method Series.mean of 0      22.0\n",
       "1      38.0\n",
       "2      26.0\n",
       "3      35.0\n",
       "4      35.0\n",
       "       ... \n",
       "886    27.0\n",
       "887    19.0\n",
       "888     NaN\n",
       "889    26.0\n",
       "890    32.0\n",
       "Name: Age, Length: 891, dtype: float64>"
      ]
     },
     "execution_count": 75,
     "metadata": {},
     "output_type": "execute_result"
    }
   ],
   "source": [
    "df['Age'].mean"
   ]
  },
  {
   "cell_type": "code",
   "execution_count": 81,
   "id": "e9f10da4-5e75-4038-8a84-eafbb2fe304b",
   "metadata": {},
   "outputs": [
    {
     "data": {
      "text/plain": [
       "0.38910778230082704"
      ]
     },
     "execution_count": 81,
     "metadata": {},
     "output_type": "execute_result"
    }
   ],
   "source": [
    "df['Age'].skew()"
   ]
  },
  {
   "cell_type": "code",
   "execution_count": null,
   "id": "84e2cdb2-4de6-4de9-a941-a46deb513628",
   "metadata": {},
   "outputs": [],
   "source": []
  }
 ],
 "metadata": {
  "kernelspec": {
   "display_name": "Python 3 (ipykernel)",
   "language": "python",
   "name": "python3"
  },
  "language_info": {
   "codemirror_mode": {
    "name": "ipython",
    "version": 3
   },
   "file_extension": ".py",
   "mimetype": "text/x-python",
   "name": "python",
   "nbconvert_exporter": "python",
   "pygments_lexer": "ipython3",
   "version": "3.12.4"
  }
 },
 "nbformat": 4,
 "nbformat_minor": 5
}
